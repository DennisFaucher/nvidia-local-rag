{
 "cells": [
  {
   "cell_type": "markdown",
   "id": "f571665c-7ba5-48aa-a946-0b9e30d0c76a",
   "metadata": {},
   "source": [
    "# Reset Document Database\n",
    "\n",
    "**WARNING: RUNNING THIS NOTEBOOK WILL DELETE ALL INDEXED DOCUMENTS.**\n",
    "\n",
    "Run this notebook if you want to clear out your indexed documents and start over.\n",
    "\n",
    "After running the notebook, you must restart the `chat` app in AI Workbench before loading documents again."
   ]
  },
  {
   "cell_type": "code",
   "execution_count": null,
   "id": "8d6a43da-0127-4b83-95c2-28776e097dac",
   "metadata": {},
   "outputs": [],
   "source": [
    "import os\n",
    "from milvus import default_server\n",
    "from pymilvus import connections, utility"
   ]
  },
  {
   "cell_type": "code",
   "execution_count": null,
   "id": "859f65d5-8fe0-44d6-a3b9-bf2cf393d386",
   "metadata": {},
   "outputs": [],
   "source": [
    "connections.connect(host='localhost', port=19530)\n",
    "collections = utility.list_collections()\n",
    "\n",
    "for collection in collections:\n",
    "    utility.drop_collection(collection)"
   ]
  },
  {
   "cell_type": "code",
   "execution_count": null,
   "id": "e8c6120b-7969-4da7-a865-0fb657f37f1e",
   "metadata": {},
   "outputs": [],
   "source": [
    "if os.path.exists(\"../data/documents/.file_cache.json\"):\n",
    "    os.remove(\"../data/documents/.file_cache.json\")\n",
    "    \n",
    "if os.path.exists(\"../data/documents/.file_cache.lock\"):\n",
    "    os.remove(\"../data/documents/.file_cache.lock\")\n"
   ]
  },
  {
   "cell_type": "markdown",
   "id": "da18a0ac-b462-4da9-a590-4ac53bdaff9b",
   "metadata": {},
   "source": [
    "### Now restart the `chat` app in AI Workbench"
   ]
  },
  {
   "cell_type": "code",
   "execution_count": null,
   "id": "9f848959-24b8-40db-8ce0-753ce05422c2",
   "metadata": {},
   "outputs": [],
   "source": []
  }
 ],
 "metadata": {
  "kernelspec": {
   "display_name": "Python 3 (ipykernel)",
   "language": "python",
   "name": "python3"
  },
  "language_info": {
   "codemirror_mode": {
    "name": "ipython",
    "version": 3
   },
   "file_extension": ".py",
   "mimetype": "text/x-python",
   "name": "python",
   "nbconvert_exporter": "python",
   "pygments_lexer": "ipython3",
   "version": "3.9.18"
  }
 },
 "nbformat": 4,
 "nbformat_minor": 5
}
